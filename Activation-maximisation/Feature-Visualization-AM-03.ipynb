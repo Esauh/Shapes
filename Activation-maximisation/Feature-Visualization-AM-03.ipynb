{
 "cells": [
  {
   "cell_type": "markdown",
   "id": "420ff211",
   "metadata": {},
   "source": [
    "References:\n",
    "1. https://medium.com/analytics-vidhya/deep-dream-visualizing-the-features-learnt-by-convolutional-networks-in-pytorch-b7296ae3b7f\n",
    "2. https://towardsdatascience.com/how-to-visualize-convolutional-features-in-40-lines-of-code-70b7d87b0030"
   ]
  },
  {
   "cell_type": "code",
   "execution_count": 1,
   "id": "6e47c24b",
   "metadata": {},
   "outputs": [],
   "source": [
    "import matplotlib.pyplot as plt\n",
    "import numpy as np\n",
    "import torch.nn as nn\n",
    "import torch\n",
    "import torchvision\n",
    "from torchvision import transforms\n",
    "# from ShapeData import train_loader, valid_loader"
   ]
  },
  {
   "cell_type": "code",
   "execution_count": 2,
   "id": "be27c2d3",
   "metadata": {},
   "outputs": [],
   "source": [
    "# to load the model from parent directory\n",
    "import os, sys\n",
    "sys.path.append(os.path.dirname(os.path.dirname(os.path.abspath('../neural networks/Shapes'))))"
   ]
  },
  {
   "cell_type": "code",
   "execution_count": 3,
   "id": "f65872a3",
   "metadata": {},
   "outputs": [
    {
     "data": {
      "text/plain": [
       "<All keys matched successfully>"
      ]
     },
     "execution_count": 3,
     "metadata": {},
     "output_type": "execute_result"
    }
   ],
   "source": [
    "'''\n",
    "model = models.resnet18(pretrained=True)\n",
    "print(model)\n",
    "'''\n",
    "sys.path.append(os.path.dirname(os.path.dirname(os.path.abspath(\"..\"))))\n",
    "# importing\n",
    "from CNNmodel import ConvNet\n",
    "\n",
    "# load model\n",
    "model = ConvNet()\n",
    "model.load_state_dict(torch.load(\"..\\\\model.pth\"))"
   ]
  },
  {
   "cell_type": "code",
   "execution_count": 4,
   "id": "eafb49b3",
   "metadata": {},
   "outputs": [
    {
     "name": "stdout",
     "output_type": "stream",
     "text": [
      "ConvNet(\n",
      "  (conv1): Conv2d(1, 12, kernel_size=(3, 3), stride=(1, 1), padding=(1, 1))\n",
      "  (bn1): BatchNorm2d(12, eps=1e-05, momentum=0.1, affine=True, track_running_stats=True)\n",
      "  (relu1): ReLU()\n",
      "  (pool): MaxPool2d(kernel_size=2, stride=2, padding=0, dilation=1, ceil_mode=False)\n",
      "  (conv2): Conv2d(12, 20, kernel_size=(3, 3), stride=(1, 1), padding=(1, 1))\n",
      "  (relu2): ReLU()\n",
      "  (conv3): Conv2d(20, 32, kernel_size=(3, 3), stride=(1, 1), padding=(1, 1))\n",
      "  (bn3): BatchNorm2d(32, eps=1e-05, momentum=0.1, affine=True, track_running_stats=True)\n",
      "  (relu3): ReLU()\n",
      "  (fc): Linear(in_features=320000, out_features=2, bias=True)\n",
      ")\n"
     ]
    }
   ],
   "source": [
    "# freeze model parameterd during training\n",
    "for param in model.parameters():\n",
    "    param.requires_grad_(False)\n",
    "\n",
    "print(model)"
   ]
  },
  {
   "cell_type": "code",
   "execution_count": 6,
   "id": "3ecc6a9c",
   "metadata": {},
   "outputs": [],
   "source": [
    "activation = {} # dictionary to store the activation of a layer\n",
    "\n",
    "def create_hook(name):\n",
    "    def hook(m, i, o):\n",
    "        # copy the output of the given layer\n",
    "        activation[name] = o\n",
    " \n",
    "    return hook"
   ]
  },
  {
   "cell_type": "code",
   "execution_count": 8,
   "id": "fc52d4f6",
   "metadata": {},
   "outputs": [
    {
     "data": {
      "text/plain": [
       "<torch.utils.hooks.RemovableHandle at 0x1b2f01e6bc0>"
      ]
     },
     "execution_count": 8,
     "metadata": {},
     "output_type": "execute_result"
    }
   ],
   "source": [
    "# register a forward hook for output layer\n",
    "model.fc.register_forward_hook(create_hook('output_layer'))"
   ]
  },
  {
   "cell_type": "code",
   "execution_count": 10,
   "id": "396bcf91",
   "metadata": {},
   "outputs": [],
   "source": [
    "# transform\n",
    "transform = transforms.Compose ([\n",
    "            transforms.ConvertImageDtype(torch.float32),\n",
    "            transforms.Normalize ([0.5], [0.5]) #0-1 to [-1,1], formula (x-mean)/std\n",
    "        ])"
   ]
  },
  {
   "cell_type": "code",
   "execution_count": 11,
   "id": "58114d1b",
   "metadata": {},
   "outputs": [],
   "source": [
    "# initialize 28*28 tensor, upscale it for interpretability\n",
    "\n",
    "Height = 28\n",
    "Width = 28\n",
    "# generate a numpy array with random values\n",
    "img = np.single(np.random.uniform(0,1, (3, Height, Width)))\n",
    "# convert to a torch tensor, normalize, set the requires_grad_ flag\n",
    "im_tensor = transform(torch.from_numpy(img)).requires_grad_(True)"
   ]
  },
  {
   "cell_type": "code",
   "execution_count": null,
   "id": "45f15e5a",
   "metadata": {},
   "outputs": [],
   "source": []
  }
 ],
 "metadata": {
  "kernelspec": {
   "display_name": "Python 3 (ipykernel)",
   "language": "python",
   "name": "python3"
  },
  "language_info": {
   "codemirror_mode": {
    "name": "ipython",
    "version": 3
   },
   "file_extension": ".py",
   "mimetype": "text/x-python",
   "name": "python",
   "nbconvert_exporter": "python",
   "pygments_lexer": "ipython3",
   "version": "3.10.9"
  }
 },
 "nbformat": 4,
 "nbformat_minor": 5
}
